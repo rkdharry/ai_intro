{
  "nbformat": 4,
  "nbformat_minor": 0,
  "metadata": {
    "colab": {
      "name": "Untitled0.ipynb",
      "provenance": [],
      "authorship_tag": "ABX9TyP64/03gQvgB+seLteSbl3i",
      "include_colab_link": true
    },
    "kernelspec": {
      "name": "python3",
      "display_name": "Python 3"
    }
  },
  "cells": [
    {
      "cell_type": "markdown",
      "metadata": {
        "id": "view-in-github",
        "colab_type": "text"
      },
      "source": [
        "<a href=\"https://colab.research.google.com/github/rkdharry/ai_intro/blob/master/Untitled0.ipynb\" target=\"_parent\"><img src=\"https://colab.research.google.com/assets/colab-badge.svg\" alt=\"Open In Colab\"/></a>"
      ]
    },
    {
      "cell_type": "markdown",
      "metadata": {
        "id": "bRIsqIo9TK7W",
        "colab_type": "text"
      },
      "source": [
        "\n",
        "1.  언어 Bixby\n",
        "2.  음성 Siri\n",
        "3.  이미지 Facebook\n",
        "4.  자율주행 Tesla\n",
        "\n",
        "\n"
      ]
    }
  ]
}